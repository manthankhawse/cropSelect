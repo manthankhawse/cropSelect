{
  "nbformat": 4,
  "nbformat_minor": 0,
  "metadata": {
    "colab": {
      "provenance": []
    },
    "kernelspec": {
      "name": "python3",
      "display_name": "Python 3"
    },
    "language_info": {
      "name": "python"
    }
  },
  "cells": [
    {
      "cell_type": "markdown",
      "source": [
        "#Importing Libraries"
      ],
      "metadata": {
        "id": "STfQ_fNLwsFz"
      }
    },
    {
      "cell_type": "code",
      "execution_count": null,
      "metadata": {
        "id": "qLa5yP0Th5ib"
      },
      "outputs": [],
      "source": [
        "import numpy as np\n",
        "import pandas as pd\n",
        "import matplotlib.pyplot as plt\n",
        "import seaborn as sns\n",
        "from sklearn.model_selection import train_test_split\n",
        "from sklearn.preprocessing import OneHotEncoder, StandardScaler\n",
        "from sklearn.compose import ColumnTransformer\n",
        "from sklearn.linear_model import LinearRegression, Lasso, Ridge\n",
        "from sklearn.neighbors import KNeighborsRegressor\n",
        "from sklearn.tree import DecisionTreeRegressor\n",
        "from sklearn.ensemble import RandomForestRegressor\n",
        "from sklearn.svm import SVR\n",
        "from sklearn.model_selection import GridSearchCV\n",
        "from sklearn.metrics import mean_squared_error, r2_score"
      ]
    },
    {
      "cell_type": "markdown",
      "source": [
        "#Loading Dataset"
      ],
      "metadata": {
        "id": "btw76seRwqH4"
      }
    },
    {
      "cell_type": "code",
      "source": [
        "df = pd.read_csv('/content/crop_dataset_rainfall_fertilizers.csv')\n",
        "df.head()"
      ],
      "metadata": {
        "colab": {
          "base_uri": "https://localhost:8080/",
          "height": 206
        },
        "id": "DvRuwpJHiMEy",
        "outputId": "2e7e68bf-1f1f-4cdd-81ec-036f0929eca6"
      },
      "execution_count": null,
      "outputs": [
        {
          "output_type": "execute_result",
          "data": {
            "text/plain": [
              "           Crop  Crop_Year       Season  State     Area  Production  \\\n",
              "0      Arecanut       1997  Whole Year   Assam  73814.0       56708   \n",
              "1     Arhar/Tur       1997  Kharif       Assam   6637.0        4685   \n",
              "2   Castor seed       1997  Kharif       Assam    796.0          22   \n",
              "3      Coconut        1997  Whole Year   Assam  19656.0   126905000   \n",
              "4  Cotton(lint)       1997  Kharif       Assam   1739.0         794   \n",
              "\n",
              "   Annual_Rainfall  Fertilizer  Pesticide        Yield  \n",
              "0           2051.4  7024878.38   22882.34     0.796087  \n",
              "1           2051.4   631643.29    2057.47     0.710435  \n",
              "2           2051.4    75755.32     246.76     0.238333  \n",
              "3           2051.4  1870661.52    6093.36  5238.051739  \n",
              "4           2051.4   165500.63     539.09     0.420909  "
            ],
            "text/html": [
              "\n",
              "  <div id=\"df-0974b16f-9a35-49ae-ba1b-c0715e7404a6\" class=\"colab-df-container\">\n",
              "    <div>\n",
              "<style scoped>\n",
              "    .dataframe tbody tr th:only-of-type {\n",
              "        vertical-align: middle;\n",
              "    }\n",
              "\n",
              "    .dataframe tbody tr th {\n",
              "        vertical-align: top;\n",
              "    }\n",
              "\n",
              "    .dataframe thead th {\n",
              "        text-align: right;\n",
              "    }\n",
              "</style>\n",
              "<table border=\"1\" class=\"dataframe\">\n",
              "  <thead>\n",
              "    <tr style=\"text-align: right;\">\n",
              "      <th></th>\n",
              "      <th>Crop</th>\n",
              "      <th>Crop_Year</th>\n",
              "      <th>Season</th>\n",
              "      <th>State</th>\n",
              "      <th>Area</th>\n",
              "      <th>Production</th>\n",
              "      <th>Annual_Rainfall</th>\n",
              "      <th>Fertilizer</th>\n",
              "      <th>Pesticide</th>\n",
              "      <th>Yield</th>\n",
              "    </tr>\n",
              "  </thead>\n",
              "  <tbody>\n",
              "    <tr>\n",
              "      <th>0</th>\n",
              "      <td>Arecanut</td>\n",
              "      <td>1997</td>\n",
              "      <td>Whole Year</td>\n",
              "      <td>Assam</td>\n",
              "      <td>73814.0</td>\n",
              "      <td>56708</td>\n",
              "      <td>2051.4</td>\n",
              "      <td>7024878.38</td>\n",
              "      <td>22882.34</td>\n",
              "      <td>0.796087</td>\n",
              "    </tr>\n",
              "    <tr>\n",
              "      <th>1</th>\n",
              "      <td>Arhar/Tur</td>\n",
              "      <td>1997</td>\n",
              "      <td>Kharif</td>\n",
              "      <td>Assam</td>\n",
              "      <td>6637.0</td>\n",
              "      <td>4685</td>\n",
              "      <td>2051.4</td>\n",
              "      <td>631643.29</td>\n",
              "      <td>2057.47</td>\n",
              "      <td>0.710435</td>\n",
              "    </tr>\n",
              "    <tr>\n",
              "      <th>2</th>\n",
              "      <td>Castor seed</td>\n",
              "      <td>1997</td>\n",
              "      <td>Kharif</td>\n",
              "      <td>Assam</td>\n",
              "      <td>796.0</td>\n",
              "      <td>22</td>\n",
              "      <td>2051.4</td>\n",
              "      <td>75755.32</td>\n",
              "      <td>246.76</td>\n",
              "      <td>0.238333</td>\n",
              "    </tr>\n",
              "    <tr>\n",
              "      <th>3</th>\n",
              "      <td>Coconut</td>\n",
              "      <td>1997</td>\n",
              "      <td>Whole Year</td>\n",
              "      <td>Assam</td>\n",
              "      <td>19656.0</td>\n",
              "      <td>126905000</td>\n",
              "      <td>2051.4</td>\n",
              "      <td>1870661.52</td>\n",
              "      <td>6093.36</td>\n",
              "      <td>5238.051739</td>\n",
              "    </tr>\n",
              "    <tr>\n",
              "      <th>4</th>\n",
              "      <td>Cotton(lint)</td>\n",
              "      <td>1997</td>\n",
              "      <td>Kharif</td>\n",
              "      <td>Assam</td>\n",
              "      <td>1739.0</td>\n",
              "      <td>794</td>\n",
              "      <td>2051.4</td>\n",
              "      <td>165500.63</td>\n",
              "      <td>539.09</td>\n",
              "      <td>0.420909</td>\n",
              "    </tr>\n",
              "  </tbody>\n",
              "</table>\n",
              "</div>\n",
              "    <div class=\"colab-df-buttons\">\n",
              "\n",
              "  <div class=\"colab-df-container\">\n",
              "    <button class=\"colab-df-convert\" onclick=\"convertToInteractive('df-0974b16f-9a35-49ae-ba1b-c0715e7404a6')\"\n",
              "            title=\"Convert this dataframe to an interactive table.\"\n",
              "            style=\"display:none;\">\n",
              "\n",
              "  <svg xmlns=\"http://www.w3.org/2000/svg\" height=\"24px\" viewBox=\"0 -960 960 960\">\n",
              "    <path d=\"M120-120v-720h720v720H120Zm60-500h600v-160H180v160Zm220 220h160v-160H400v160Zm0 220h160v-160H400v160ZM180-400h160v-160H180v160Zm440 0h160v-160H620v160ZM180-180h160v-160H180v160Zm440 0h160v-160H620v160Z\"/>\n",
              "  </svg>\n",
              "    </button>\n",
              "\n",
              "  <style>\n",
              "    .colab-df-container {\n",
              "      display:flex;\n",
              "      gap: 12px;\n",
              "    }\n",
              "\n",
              "    .colab-df-convert {\n",
              "      background-color: #E8F0FE;\n",
              "      border: none;\n",
              "      border-radius: 50%;\n",
              "      cursor: pointer;\n",
              "      display: none;\n",
              "      fill: #1967D2;\n",
              "      height: 32px;\n",
              "      padding: 0 0 0 0;\n",
              "      width: 32px;\n",
              "    }\n",
              "\n",
              "    .colab-df-convert:hover {\n",
              "      background-color: #E2EBFA;\n",
              "      box-shadow: 0px 1px 2px rgba(60, 64, 67, 0.3), 0px 1px 3px 1px rgba(60, 64, 67, 0.15);\n",
              "      fill: #174EA6;\n",
              "    }\n",
              "\n",
              "    .colab-df-buttons div {\n",
              "      margin-bottom: 4px;\n",
              "    }\n",
              "\n",
              "    [theme=dark] .colab-df-convert {\n",
              "      background-color: #3B4455;\n",
              "      fill: #D2E3FC;\n",
              "    }\n",
              "\n",
              "    [theme=dark] .colab-df-convert:hover {\n",
              "      background-color: #434B5C;\n",
              "      box-shadow: 0px 1px 3px 1px rgba(0, 0, 0, 0.15);\n",
              "      filter: drop-shadow(0px 1px 2px rgba(0, 0, 0, 0.3));\n",
              "      fill: #FFFFFF;\n",
              "    }\n",
              "  </style>\n",
              "\n",
              "    <script>\n",
              "      const buttonEl =\n",
              "        document.querySelector('#df-0974b16f-9a35-49ae-ba1b-c0715e7404a6 button.colab-df-convert');\n",
              "      buttonEl.style.display =\n",
              "        google.colab.kernel.accessAllowed ? 'block' : 'none';\n",
              "\n",
              "      async function convertToInteractive(key) {\n",
              "        const element = document.querySelector('#df-0974b16f-9a35-49ae-ba1b-c0715e7404a6');\n",
              "        const dataTable =\n",
              "          await google.colab.kernel.invokeFunction('convertToInteractive',\n",
              "                                                    [key], {});\n",
              "        if (!dataTable) return;\n",
              "\n",
              "        const docLinkHtml = 'Like what you see? Visit the ' +\n",
              "          '<a target=\"_blank\" href=https://colab.research.google.com/notebooks/data_table.ipynb>data table notebook</a>'\n",
              "          + ' to learn more about interactive tables.';\n",
              "        element.innerHTML = '';\n",
              "        dataTable['output_type'] = 'display_data';\n",
              "        await google.colab.output.renderOutput(dataTable, element);\n",
              "        const docLink = document.createElement('div');\n",
              "        docLink.innerHTML = docLinkHtml;\n",
              "        element.appendChild(docLink);\n",
              "      }\n",
              "    </script>\n",
              "  </div>\n",
              "\n",
              "\n",
              "<div id=\"df-0fc63687-02e2-4e17-b19d-d4196389a03f\">\n",
              "  <button class=\"colab-df-quickchart\" onclick=\"quickchart('df-0fc63687-02e2-4e17-b19d-d4196389a03f')\"\n",
              "            title=\"Suggest charts\"\n",
              "            style=\"display:none;\">\n",
              "\n",
              "<svg xmlns=\"http://www.w3.org/2000/svg\" height=\"24px\"viewBox=\"0 0 24 24\"\n",
              "     width=\"24px\">\n",
              "    <g>\n",
              "        <path d=\"M19 3H5c-1.1 0-2 .9-2 2v14c0 1.1.9 2 2 2h14c1.1 0 2-.9 2-2V5c0-1.1-.9-2-2-2zM9 17H7v-7h2v7zm4 0h-2V7h2v10zm4 0h-2v-4h2v4z\"/>\n",
              "    </g>\n",
              "</svg>\n",
              "  </button>\n",
              "\n",
              "<style>\n",
              "  .colab-df-quickchart {\n",
              "      --bg-color: #E8F0FE;\n",
              "      --fill-color: #1967D2;\n",
              "      --hover-bg-color: #E2EBFA;\n",
              "      --hover-fill-color: #174EA6;\n",
              "      --disabled-fill-color: #AAA;\n",
              "      --disabled-bg-color: #DDD;\n",
              "  }\n",
              "\n",
              "  [theme=dark] .colab-df-quickchart {\n",
              "      --bg-color: #3B4455;\n",
              "      --fill-color: #D2E3FC;\n",
              "      --hover-bg-color: #434B5C;\n",
              "      --hover-fill-color: #FFFFFF;\n",
              "      --disabled-bg-color: #3B4455;\n",
              "      --disabled-fill-color: #666;\n",
              "  }\n",
              "\n",
              "  .colab-df-quickchart {\n",
              "    background-color: var(--bg-color);\n",
              "    border: none;\n",
              "    border-radius: 50%;\n",
              "    cursor: pointer;\n",
              "    display: none;\n",
              "    fill: var(--fill-color);\n",
              "    height: 32px;\n",
              "    padding: 0;\n",
              "    width: 32px;\n",
              "  }\n",
              "\n",
              "  .colab-df-quickchart:hover {\n",
              "    background-color: var(--hover-bg-color);\n",
              "    box-shadow: 0 1px 2px rgba(60, 64, 67, 0.3), 0 1px 3px 1px rgba(60, 64, 67, 0.15);\n",
              "    fill: var(--button-hover-fill-color);\n",
              "  }\n",
              "\n",
              "  .colab-df-quickchart-complete:disabled,\n",
              "  .colab-df-quickchart-complete:disabled:hover {\n",
              "    background-color: var(--disabled-bg-color);\n",
              "    fill: var(--disabled-fill-color);\n",
              "    box-shadow: none;\n",
              "  }\n",
              "\n",
              "  .colab-df-spinner {\n",
              "    border: 2px solid var(--fill-color);\n",
              "    border-color: transparent;\n",
              "    border-bottom-color: var(--fill-color);\n",
              "    animation:\n",
              "      spin 1s steps(1) infinite;\n",
              "  }\n",
              "\n",
              "  @keyframes spin {\n",
              "    0% {\n",
              "      border-color: transparent;\n",
              "      border-bottom-color: var(--fill-color);\n",
              "      border-left-color: var(--fill-color);\n",
              "    }\n",
              "    20% {\n",
              "      border-color: transparent;\n",
              "      border-left-color: var(--fill-color);\n",
              "      border-top-color: var(--fill-color);\n",
              "    }\n",
              "    30% {\n",
              "      border-color: transparent;\n",
              "      border-left-color: var(--fill-color);\n",
              "      border-top-color: var(--fill-color);\n",
              "      border-right-color: var(--fill-color);\n",
              "    }\n",
              "    40% {\n",
              "      border-color: transparent;\n",
              "      border-right-color: var(--fill-color);\n",
              "      border-top-color: var(--fill-color);\n",
              "    }\n",
              "    60% {\n",
              "      border-color: transparent;\n",
              "      border-right-color: var(--fill-color);\n",
              "    }\n",
              "    80% {\n",
              "      border-color: transparent;\n",
              "      border-right-color: var(--fill-color);\n",
              "      border-bottom-color: var(--fill-color);\n",
              "    }\n",
              "    90% {\n",
              "      border-color: transparent;\n",
              "      border-bottom-color: var(--fill-color);\n",
              "    }\n",
              "  }\n",
              "</style>\n",
              "\n",
              "  <script>\n",
              "    async function quickchart(key) {\n",
              "      const quickchartButtonEl =\n",
              "        document.querySelector('#' + key + ' button');\n",
              "      quickchartButtonEl.disabled = true;  // To prevent multiple clicks.\n",
              "      quickchartButtonEl.classList.add('colab-df-spinner');\n",
              "      try {\n",
              "        const charts = await google.colab.kernel.invokeFunction(\n",
              "            'suggestCharts', [key], {});\n",
              "      } catch (error) {\n",
              "        console.error('Error during call to suggestCharts:', error);\n",
              "      }\n",
              "      quickchartButtonEl.classList.remove('colab-df-spinner');\n",
              "      quickchartButtonEl.classList.add('colab-df-quickchart-complete');\n",
              "    }\n",
              "    (() => {\n",
              "      let quickchartButtonEl =\n",
              "        document.querySelector('#df-0fc63687-02e2-4e17-b19d-d4196389a03f button');\n",
              "      quickchartButtonEl.style.display =\n",
              "        google.colab.kernel.accessAllowed ? 'block' : 'none';\n",
              "    })();\n",
              "  </script>\n",
              "</div>\n",
              "\n",
              "    </div>\n",
              "  </div>\n"
            ],
            "application/vnd.google.colaboratory.intrinsic+json": {
              "type": "dataframe",
              "variable_name": "df",
              "summary": "{\n  \"name\": \"df\",\n  \"rows\": 19689,\n  \"fields\": [\n    {\n      \"column\": \"Crop\",\n      \"properties\": {\n        \"dtype\": \"category\",\n        \"num_unique_values\": 55,\n        \"samples\": [\n          \"Groundnut\",\n          \"Dry chillies\",\n          \"Horse-gram\"\n        ],\n        \"semantic_type\": \"\",\n        \"description\": \"\"\n      }\n    },\n    {\n      \"column\": \"Crop_Year\",\n      \"properties\": {\n        \"dtype\": \"number\",\n        \"std\": 6,\n        \"min\": 1997,\n        \"max\": 2020,\n        \"num_unique_values\": 24,\n        \"samples\": [\n          2005,\n          2013,\n          1997\n        ],\n        \"semantic_type\": \"\",\n        \"description\": \"\"\n      }\n    },\n    {\n      \"column\": \"Season\",\n      \"properties\": {\n        \"dtype\": \"category\",\n        \"num_unique_values\": 6,\n        \"samples\": [\n          \"Whole Year \",\n          \"Kharif     \",\n          \"Winter     \"\n        ],\n        \"semantic_type\": \"\",\n        \"description\": \"\"\n      }\n    },\n    {\n      \"column\": \"State\",\n      \"properties\": {\n        \"dtype\": \"category\",\n        \"num_unique_values\": 30,\n        \"samples\": [\n          \"Telangana\",\n          \"Punjab\",\n          \"Jharkhand\"\n        ],\n        \"semantic_type\": \"\",\n        \"description\": \"\"\n      }\n    },\n    {\n      \"column\": \"Area\",\n      \"properties\": {\n        \"dtype\": \"number\",\n        \"std\": 732828.6758877123,\n        \"min\": 0.5,\n        \"max\": 50808100.0,\n        \"num_unique_values\": 13644,\n        \"samples\": [\n          636951.0,\n          2283.0,\n          11488.0\n        ],\n        \"semantic_type\": \"\",\n        \"description\": \"\"\n      }\n    },\n    {\n      \"column\": \"Production\",\n      \"properties\": {\n        \"dtype\": \"number\",\n        \"std\": 263056839,\n        \"min\": 0,\n        \"max\": 6326000000,\n        \"num_unique_values\": 14016,\n        \"samples\": [\n          263316,\n          142,\n          284572\n        ],\n        \"semantic_type\": \"\",\n        \"description\": \"\"\n      }\n    },\n    {\n      \"column\": \"Annual_Rainfall\",\n      \"properties\": {\n        \"dtype\": \"number\",\n        \"std\": 816.9095887579944,\n        \"min\": 301.3,\n        \"max\": 6552.7,\n        \"num_unique_values\": 634,\n        \"samples\": [\n          1019.9,\n          1711.5,\n          800.8\n        ],\n        \"semantic_type\": \"\",\n        \"description\": \"\"\n      }\n    },\n    {\n      \"column\": \"Fertilizer\",\n      \"properties\": {\n        \"dtype\": \"number\",\n        \"std\": 94946004.48252676,\n        \"min\": 54.17,\n        \"max\": 4835406877.0,\n        \"num_unique_values\": 18598,\n        \"samples\": [\n          45900.48,\n          199161.6,\n          879144.96\n        ],\n        \"semantic_type\": \"\",\n        \"description\": \"\"\n      }\n    },\n    {\n      \"column\": \"Pesticide\",\n      \"properties\": {\n        \"dtype\": \"number\",\n        \"std\": 213287.35485950505,\n        \"min\": 0.09,\n        \"max\": 15750511.0,\n        \"num_unique_values\": 17405,\n        \"samples\": [\n          4031.61,\n          1069.2,\n          4430.14\n        ],\n        \"semantic_type\": \"\",\n        \"description\": \"\"\n      }\n    },\n    {\n      \"column\": \"Yield\",\n      \"properties\": {\n        \"dtype\": \"number\",\n        \"std\": 878.3061926565967,\n        \"min\": 0.0,\n        \"max\": 21105.0,\n        \"num_unique_values\": 13551,\n        \"samples\": [\n          7.9108,\n          0.351034483,\n          0.174347826\n        ],\n        \"semantic_type\": \"\",\n        \"description\": \"\"\n      }\n    }\n  ]\n}"
            }
          },
          "metadata": {},
          "execution_count": 2
        }
      ]
    },
    {
      "cell_type": "code",
      "source": [
        "df.describe()"
      ],
      "metadata": {
        "colab": {
          "base_uri": "https://localhost:8080/",
          "height": 300
        },
        "id": "VgkW9cEoinqy",
        "outputId": "822302ca-eb0b-4d08-d108-ccc851d34569"
      },
      "execution_count": null,
      "outputs": [
        {
          "output_type": "execute_result",
          "data": {
            "text/plain": [
              "          Crop_Year          Area    Production  Annual_Rainfall  \\\n",
              "count  19689.000000  1.968900e+04  1.968900e+04     19689.000000   \n",
              "mean    2009.127584  1.799266e+05  1.643594e+07      1437.755177   \n",
              "std        6.498099  7.328287e+05  2.630568e+08       816.909589   \n",
              "min     1997.000000  5.000000e-01  0.000000e+00       301.300000   \n",
              "25%     2004.000000  1.390000e+03  1.393000e+03       940.700000   \n",
              "50%     2010.000000  9.317000e+03  1.380400e+04      1247.600000   \n",
              "75%     2015.000000  7.511200e+04  1.227180e+05      1643.700000   \n",
              "max     2020.000000  5.080810e+07  6.326000e+09      6552.700000   \n",
              "\n",
              "         Fertilizer     Pesticide         Yield  \n",
              "count  1.968900e+04  1.968900e+04  19689.000000  \n",
              "mean   2.410331e+07  4.884835e+04     79.954009  \n",
              "std    9.494600e+07  2.132874e+05    878.306193  \n",
              "min    5.417000e+01  9.000000e-02      0.000000  \n",
              "25%    1.880146e+05  3.567000e+02      0.600000  \n",
              "50%    1.234957e+06  2.421900e+03      1.030000  \n",
              "75%    1.000385e+07  2.004170e+04      2.388889  \n",
              "max    4.835407e+09  1.575051e+07  21105.000000  "
            ],
            "text/html": [
              "\n",
              "  <div id=\"df-b595b6b9-1010-4331-9ee1-172d4c8fc26d\" class=\"colab-df-container\">\n",
              "    <div>\n",
              "<style scoped>\n",
              "    .dataframe tbody tr th:only-of-type {\n",
              "        vertical-align: middle;\n",
              "    }\n",
              "\n",
              "    .dataframe tbody tr th {\n",
              "        vertical-align: top;\n",
              "    }\n",
              "\n",
              "    .dataframe thead th {\n",
              "        text-align: right;\n",
              "    }\n",
              "</style>\n",
              "<table border=\"1\" class=\"dataframe\">\n",
              "  <thead>\n",
              "    <tr style=\"text-align: right;\">\n",
              "      <th></th>\n",
              "      <th>Crop_Year</th>\n",
              "      <th>Area</th>\n",
              "      <th>Production</th>\n",
              "      <th>Annual_Rainfall</th>\n",
              "      <th>Fertilizer</th>\n",
              "      <th>Pesticide</th>\n",
              "      <th>Yield</th>\n",
              "    </tr>\n",
              "  </thead>\n",
              "  <tbody>\n",
              "    <tr>\n",
              "      <th>count</th>\n",
              "      <td>19689.000000</td>\n",
              "      <td>1.968900e+04</td>\n",
              "      <td>1.968900e+04</td>\n",
              "      <td>19689.000000</td>\n",
              "      <td>1.968900e+04</td>\n",
              "      <td>1.968900e+04</td>\n",
              "      <td>19689.000000</td>\n",
              "    </tr>\n",
              "    <tr>\n",
              "      <th>mean</th>\n",
              "      <td>2009.127584</td>\n",
              "      <td>1.799266e+05</td>\n",
              "      <td>1.643594e+07</td>\n",
              "      <td>1437.755177</td>\n",
              "      <td>2.410331e+07</td>\n",
              "      <td>4.884835e+04</td>\n",
              "      <td>79.954009</td>\n",
              "    </tr>\n",
              "    <tr>\n",
              "      <th>std</th>\n",
              "      <td>6.498099</td>\n",
              "      <td>7.328287e+05</td>\n",
              "      <td>2.630568e+08</td>\n",
              "      <td>816.909589</td>\n",
              "      <td>9.494600e+07</td>\n",
              "      <td>2.132874e+05</td>\n",
              "      <td>878.306193</td>\n",
              "    </tr>\n",
              "    <tr>\n",
              "      <th>min</th>\n",
              "      <td>1997.000000</td>\n",
              "      <td>5.000000e-01</td>\n",
              "      <td>0.000000e+00</td>\n",
              "      <td>301.300000</td>\n",
              "      <td>5.417000e+01</td>\n",
              "      <td>9.000000e-02</td>\n",
              "      <td>0.000000</td>\n",
              "    </tr>\n",
              "    <tr>\n",
              "      <th>25%</th>\n",
              "      <td>2004.000000</td>\n",
              "      <td>1.390000e+03</td>\n",
              "      <td>1.393000e+03</td>\n",
              "      <td>940.700000</td>\n",
              "      <td>1.880146e+05</td>\n",
              "      <td>3.567000e+02</td>\n",
              "      <td>0.600000</td>\n",
              "    </tr>\n",
              "    <tr>\n",
              "      <th>50%</th>\n",
              "      <td>2010.000000</td>\n",
              "      <td>9.317000e+03</td>\n",
              "      <td>1.380400e+04</td>\n",
              "      <td>1247.600000</td>\n",
              "      <td>1.234957e+06</td>\n",
              "      <td>2.421900e+03</td>\n",
              "      <td>1.030000</td>\n",
              "    </tr>\n",
              "    <tr>\n",
              "      <th>75%</th>\n",
              "      <td>2015.000000</td>\n",
              "      <td>7.511200e+04</td>\n",
              "      <td>1.227180e+05</td>\n",
              "      <td>1643.700000</td>\n",
              "      <td>1.000385e+07</td>\n",
              "      <td>2.004170e+04</td>\n",
              "      <td>2.388889</td>\n",
              "    </tr>\n",
              "    <tr>\n",
              "      <th>max</th>\n",
              "      <td>2020.000000</td>\n",
              "      <td>5.080810e+07</td>\n",
              "      <td>6.326000e+09</td>\n",
              "      <td>6552.700000</td>\n",
              "      <td>4.835407e+09</td>\n",
              "      <td>1.575051e+07</td>\n",
              "      <td>21105.000000</td>\n",
              "    </tr>\n",
              "  </tbody>\n",
              "</table>\n",
              "</div>\n",
              "    <div class=\"colab-df-buttons\">\n",
              "\n",
              "  <div class=\"colab-df-container\">\n",
              "    <button class=\"colab-df-convert\" onclick=\"convertToInteractive('df-b595b6b9-1010-4331-9ee1-172d4c8fc26d')\"\n",
              "            title=\"Convert this dataframe to an interactive table.\"\n",
              "            style=\"display:none;\">\n",
              "\n",
              "  <svg xmlns=\"http://www.w3.org/2000/svg\" height=\"24px\" viewBox=\"0 -960 960 960\">\n",
              "    <path d=\"M120-120v-720h720v720H120Zm60-500h600v-160H180v160Zm220 220h160v-160H400v160Zm0 220h160v-160H400v160ZM180-400h160v-160H180v160Zm440 0h160v-160H620v160ZM180-180h160v-160H180v160Zm440 0h160v-160H620v160Z\"/>\n",
              "  </svg>\n",
              "    </button>\n",
              "\n",
              "  <style>\n",
              "    .colab-df-container {\n",
              "      display:flex;\n",
              "      gap: 12px;\n",
              "    }\n",
              "\n",
              "    .colab-df-convert {\n",
              "      background-color: #E8F0FE;\n",
              "      border: none;\n",
              "      border-radius: 50%;\n",
              "      cursor: pointer;\n",
              "      display: none;\n",
              "      fill: #1967D2;\n",
              "      height: 32px;\n",
              "      padding: 0 0 0 0;\n",
              "      width: 32px;\n",
              "    }\n",
              "\n",
              "    .colab-df-convert:hover {\n",
              "      background-color: #E2EBFA;\n",
              "      box-shadow: 0px 1px 2px rgba(60, 64, 67, 0.3), 0px 1px 3px 1px rgba(60, 64, 67, 0.15);\n",
              "      fill: #174EA6;\n",
              "    }\n",
              "\n",
              "    .colab-df-buttons div {\n",
              "      margin-bottom: 4px;\n",
              "    }\n",
              "\n",
              "    [theme=dark] .colab-df-convert {\n",
              "      background-color: #3B4455;\n",
              "      fill: #D2E3FC;\n",
              "    }\n",
              "\n",
              "    [theme=dark] .colab-df-convert:hover {\n",
              "      background-color: #434B5C;\n",
              "      box-shadow: 0px 1px 3px 1px rgba(0, 0, 0, 0.15);\n",
              "      filter: drop-shadow(0px 1px 2px rgba(0, 0, 0, 0.3));\n",
              "      fill: #FFFFFF;\n",
              "    }\n",
              "  </style>\n",
              "\n",
              "    <script>\n",
              "      const buttonEl =\n",
              "        document.querySelector('#df-b595b6b9-1010-4331-9ee1-172d4c8fc26d button.colab-df-convert');\n",
              "      buttonEl.style.display =\n",
              "        google.colab.kernel.accessAllowed ? 'block' : 'none';\n",
              "\n",
              "      async function convertToInteractive(key) {\n",
              "        const element = document.querySelector('#df-b595b6b9-1010-4331-9ee1-172d4c8fc26d');\n",
              "        const dataTable =\n",
              "          await google.colab.kernel.invokeFunction('convertToInteractive',\n",
              "                                                    [key], {});\n",
              "        if (!dataTable) return;\n",
              "\n",
              "        const docLinkHtml = 'Like what you see? Visit the ' +\n",
              "          '<a target=\"_blank\" href=https://colab.research.google.com/notebooks/data_table.ipynb>data table notebook</a>'\n",
              "          + ' to learn more about interactive tables.';\n",
              "        element.innerHTML = '';\n",
              "        dataTable['output_type'] = 'display_data';\n",
              "        await google.colab.output.renderOutput(dataTable, element);\n",
              "        const docLink = document.createElement('div');\n",
              "        docLink.innerHTML = docLinkHtml;\n",
              "        element.appendChild(docLink);\n",
              "      }\n",
              "    </script>\n",
              "  </div>\n",
              "\n",
              "\n",
              "<div id=\"df-e37a9bda-0087-4e40-a8c1-69de8f26bbc2\">\n",
              "  <button class=\"colab-df-quickchart\" onclick=\"quickchart('df-e37a9bda-0087-4e40-a8c1-69de8f26bbc2')\"\n",
              "            title=\"Suggest charts\"\n",
              "            style=\"display:none;\">\n",
              "\n",
              "<svg xmlns=\"http://www.w3.org/2000/svg\" height=\"24px\"viewBox=\"0 0 24 24\"\n",
              "     width=\"24px\">\n",
              "    <g>\n",
              "        <path d=\"M19 3H5c-1.1 0-2 .9-2 2v14c0 1.1.9 2 2 2h14c1.1 0 2-.9 2-2V5c0-1.1-.9-2-2-2zM9 17H7v-7h2v7zm4 0h-2V7h2v10zm4 0h-2v-4h2v4z\"/>\n",
              "    </g>\n",
              "</svg>\n",
              "  </button>\n",
              "\n",
              "<style>\n",
              "  .colab-df-quickchart {\n",
              "      --bg-color: #E8F0FE;\n",
              "      --fill-color: #1967D2;\n",
              "      --hover-bg-color: #E2EBFA;\n",
              "      --hover-fill-color: #174EA6;\n",
              "      --disabled-fill-color: #AAA;\n",
              "      --disabled-bg-color: #DDD;\n",
              "  }\n",
              "\n",
              "  [theme=dark] .colab-df-quickchart {\n",
              "      --bg-color: #3B4455;\n",
              "      --fill-color: #D2E3FC;\n",
              "      --hover-bg-color: #434B5C;\n",
              "      --hover-fill-color: #FFFFFF;\n",
              "      --disabled-bg-color: #3B4455;\n",
              "      --disabled-fill-color: #666;\n",
              "  }\n",
              "\n",
              "  .colab-df-quickchart {\n",
              "    background-color: var(--bg-color);\n",
              "    border: none;\n",
              "    border-radius: 50%;\n",
              "    cursor: pointer;\n",
              "    display: none;\n",
              "    fill: var(--fill-color);\n",
              "    height: 32px;\n",
              "    padding: 0;\n",
              "    width: 32px;\n",
              "  }\n",
              "\n",
              "  .colab-df-quickchart:hover {\n",
              "    background-color: var(--hover-bg-color);\n",
              "    box-shadow: 0 1px 2px rgba(60, 64, 67, 0.3), 0 1px 3px 1px rgba(60, 64, 67, 0.15);\n",
              "    fill: var(--button-hover-fill-color);\n",
              "  }\n",
              "\n",
              "  .colab-df-quickchart-complete:disabled,\n",
              "  .colab-df-quickchart-complete:disabled:hover {\n",
              "    background-color: var(--disabled-bg-color);\n",
              "    fill: var(--disabled-fill-color);\n",
              "    box-shadow: none;\n",
              "  }\n",
              "\n",
              "  .colab-df-spinner {\n",
              "    border: 2px solid var(--fill-color);\n",
              "    border-color: transparent;\n",
              "    border-bottom-color: var(--fill-color);\n",
              "    animation:\n",
              "      spin 1s steps(1) infinite;\n",
              "  }\n",
              "\n",
              "  @keyframes spin {\n",
              "    0% {\n",
              "      border-color: transparent;\n",
              "      border-bottom-color: var(--fill-color);\n",
              "      border-left-color: var(--fill-color);\n",
              "    }\n",
              "    20% {\n",
              "      border-color: transparent;\n",
              "      border-left-color: var(--fill-color);\n",
              "      border-top-color: var(--fill-color);\n",
              "    }\n",
              "    30% {\n",
              "      border-color: transparent;\n",
              "      border-left-color: var(--fill-color);\n",
              "      border-top-color: var(--fill-color);\n",
              "      border-right-color: var(--fill-color);\n",
              "    }\n",
              "    40% {\n",
              "      border-color: transparent;\n",
              "      border-right-color: var(--fill-color);\n",
              "      border-top-color: var(--fill-color);\n",
              "    }\n",
              "    60% {\n",
              "      border-color: transparent;\n",
              "      border-right-color: var(--fill-color);\n",
              "    }\n",
              "    80% {\n",
              "      border-color: transparent;\n",
              "      border-right-color: var(--fill-color);\n",
              "      border-bottom-color: var(--fill-color);\n",
              "    }\n",
              "    90% {\n",
              "      border-color: transparent;\n",
              "      border-bottom-color: var(--fill-color);\n",
              "    }\n",
              "  }\n",
              "</style>\n",
              "\n",
              "  <script>\n",
              "    async function quickchart(key) {\n",
              "      const quickchartButtonEl =\n",
              "        document.querySelector('#' + key + ' button');\n",
              "      quickchartButtonEl.disabled = true;  // To prevent multiple clicks.\n",
              "      quickchartButtonEl.classList.add('colab-df-spinner');\n",
              "      try {\n",
              "        const charts = await google.colab.kernel.invokeFunction(\n",
              "            'suggestCharts', [key], {});\n",
              "      } catch (error) {\n",
              "        console.error('Error during call to suggestCharts:', error);\n",
              "      }\n",
              "      quickchartButtonEl.classList.remove('colab-df-spinner');\n",
              "      quickchartButtonEl.classList.add('colab-df-quickchart-complete');\n",
              "    }\n",
              "    (() => {\n",
              "      let quickchartButtonEl =\n",
              "        document.querySelector('#df-e37a9bda-0087-4e40-a8c1-69de8f26bbc2 button');\n",
              "      quickchartButtonEl.style.display =\n",
              "        google.colab.kernel.accessAllowed ? 'block' : 'none';\n",
              "    })();\n",
              "  </script>\n",
              "</div>\n",
              "\n",
              "    </div>\n",
              "  </div>\n"
            ],
            "application/vnd.google.colaboratory.intrinsic+json": {
              "type": "dataframe",
              "summary": "{\n  \"name\": \"df\",\n  \"rows\": 8,\n  \"fields\": [\n    {\n      \"column\": \"Crop_Year\",\n      \"properties\": {\n        \"dtype\": \"number\",\n        \"std\": 6390.4541305985895,\n        \"min\": 6.498098951393285,\n        \"max\": 19689.0,\n        \"num_unique_values\": 8,\n        \"samples\": [\n          2009.1275839301134,\n          2010.0,\n          19689.0\n        ],\n        \"semantic_type\": \"\",\n        \"description\": \"\"\n      }\n    },\n    {\n      \"column\": \"Area\",\n      \"properties\": {\n        \"dtype\": \"number\",\n        \"std\": 17913650.253617987,\n        \"min\": 0.5,\n        \"max\": 50808100.0,\n        \"num_unique_values\": 8,\n        \"samples\": [\n          179926.57030814158,\n          9317.0,\n          19689.0\n        ],\n        \"semantic_type\": \"\",\n        \"description\": \"\"\n      }\n    },\n    {\n      \"column\": \"Production\",\n      \"properties\": {\n        \"dtype\": \"number\",\n        \"std\": 2224327119.1380157,\n        \"min\": 0.0,\n        \"max\": 6326000000.0,\n        \"num_unique_values\": 8,\n        \"samples\": [\n          16435941.273096653,\n          13804.0,\n          19689.0\n        ],\n        \"semantic_type\": \"\",\n        \"description\": \"\"\n      }\n    },\n    {\n      \"column\": \"Annual_Rainfall\",\n      \"properties\": {\n        \"dtype\": \"number\",\n        \"std\": 6606.016254753853,\n        \"min\": 301.3,\n        \"max\": 19689.0,\n        \"num_unique_values\": 8,\n        \"samples\": [\n          1437.7551766159684,\n          1247.6,\n          19689.0\n        ],\n        \"semantic_type\": \"\",\n        \"description\": \"\"\n      }\n    },\n    {\n      \"column\": \"Fertilizer\",\n      \"properties\": {\n        \"dtype\": \"number\",\n        \"std\": 1703288132.8346858,\n        \"min\": 54.17,\n        \"max\": 4835406877.0,\n        \"num_unique_values\": 8,\n        \"samples\": [\n          24103312.448805965,\n          1234957.44,\n          19689.0\n        ],\n        \"semantic_type\": \"\",\n        \"description\": \"\"\n      }\n    },\n    {\n      \"column\": \"Pesticide\",\n      \"properties\": {\n        \"dtype\": \"number\",\n        \"std\": 5553715.166707065,\n        \"min\": 0.09,\n        \"max\": 15750511.0,\n        \"num_unique_values\": 8,\n        \"samples\": [\n          48848.353392009245,\n          2421.9,\n          19689.0\n        ],\n        \"semantic_type\": \"\",\n        \"description\": \"\"\n      }\n    },\n    {\n      \"column\": \"Yield\",\n      \"properties\": {\n        \"dtype\": \"number\",\n        \"std\": 9380.124977099376,\n        \"min\": 0.0,\n        \"max\": 21105.0,\n        \"num_unique_values\": 8,\n        \"samples\": [\n          79.95400913008669,\n          1.03,\n          19689.0\n        ],\n        \"semantic_type\": \"\",\n        \"description\": \"\"\n      }\n    }\n  ]\n}"
            }
          },
          "metadata": {},
          "execution_count": 3
        }
      ]
    },
    {
      "cell_type": "code",
      "source": [
        "df['Season'] = df['Season'].str.strip()\n",
        "seasons = df['Season'].unique()\n",
        "seasons"
      ],
      "metadata": {
        "colab": {
          "base_uri": "https://localhost:8080/"
        },
        "id": "_eVitGolcf4e",
        "outputId": "8fec8369-2b8b-4849-e52a-5cd637fd3a35"
      },
      "execution_count": null,
      "outputs": [
        {
          "output_type": "execute_result",
          "data": {
            "text/plain": [
              "array(['Whole Year', 'Kharif', 'Rabi', 'Autumn', 'Summer', 'Winter'],\n",
              "      dtype=object)"
            ]
          },
          "metadata": {},
          "execution_count": 4
        }
      ]
    },
    {
      "cell_type": "code",
      "source": [
        "df['Crop'] = df['Crop'].str.strip()\n",
        "crops = df['Crop'].unique()\n",
        "crops"
      ],
      "metadata": {
        "colab": {
          "base_uri": "https://localhost:8080/",
          "height": 176
        },
        "id": "HNq72ja_dX1e",
        "outputId": "d0d94526-4d00-449a-8847-fa0bafb467cd"
      },
      "execution_count": null,
      "outputs": [
        {
          "output_type": "error",
          "ename": "NameError",
          "evalue": "name 'df' is not defined",
          "traceback": [
            "\u001b[0;31m---------------------------------------------------------------------------\u001b[0m",
            "\u001b[0;31mNameError\u001b[0m                                 Traceback (most recent call last)",
            "\u001b[0;32m<ipython-input-1-3191059ee3d4>\u001b[0m in \u001b[0;36m<cell line: 1>\u001b[0;34m()\u001b[0m\n\u001b[0;32m----> 1\u001b[0;31m \u001b[0mdf\u001b[0m\u001b[0;34m[\u001b[0m\u001b[0;34m'Crop'\u001b[0m\u001b[0;34m]\u001b[0m \u001b[0;34m=\u001b[0m \u001b[0mdf\u001b[0m\u001b[0;34m[\u001b[0m\u001b[0;34m'Crop'\u001b[0m\u001b[0;34m]\u001b[0m\u001b[0;34m.\u001b[0m\u001b[0mstr\u001b[0m\u001b[0;34m.\u001b[0m\u001b[0mstrip\u001b[0m\u001b[0;34m(\u001b[0m\u001b[0;34m)\u001b[0m\u001b[0;34m\u001b[0m\u001b[0;34m\u001b[0m\u001b[0m\n\u001b[0m\u001b[1;32m      2\u001b[0m \u001b[0mcrops\u001b[0m \u001b[0;34m=\u001b[0m \u001b[0mdf\u001b[0m\u001b[0;34m[\u001b[0m\u001b[0;34m'Crop'\u001b[0m\u001b[0;34m]\u001b[0m\u001b[0;34m.\u001b[0m\u001b[0munique\u001b[0m\u001b[0;34m(\u001b[0m\u001b[0;34m)\u001b[0m\u001b[0;34m\u001b[0m\u001b[0;34m\u001b[0m\u001b[0m\n\u001b[1;32m      3\u001b[0m \u001b[0mcrops\u001b[0m\u001b[0;34m.\u001b[0m\u001b[0msize\u001b[0m\u001b[0;34m\u001b[0m\u001b[0;34m\u001b[0m\u001b[0m\n",
            "\u001b[0;31mNameError\u001b[0m: name 'df' is not defined"
          ]
        }
      ]
    },
    {
      "cell_type": "code",
      "source": [
        "df['Crop'].value_counts()"
      ],
      "metadata": {
        "colab": {
          "base_uri": "https://localhost:8080/"
        },
        "id": "NABgn5n_O2jt",
        "outputId": "5fdbb74d-b553-47f9-f997-3c7ea5475608"
      },
      "execution_count": null,
      "outputs": [
        {
          "output_type": "execute_result",
          "data": {
            "text/plain": [
              "Crop\n",
              "Rice                     1197\n",
              "Maize                     975\n",
              "Moong(Green Gram)         740\n",
              "Urad                      733\n",
              "Groundnut                 725\n",
              "Sesamum                   685\n",
              "Potato                    628\n",
              "Sugarcane                 605\n",
              "Wheat                     545\n",
              "Rapeseed &Mustard         528\n",
              "Bajra                     524\n",
              "Jowar                     513\n",
              "Arhar/Tur                 508\n",
              "Ragi                      498\n",
              "Gram                      490\n",
              "Small millets             485\n",
              "Cotton(lint)              476\n",
              "Onion                     454\n",
              "Sunflower                 441\n",
              "Dry chillies              419\n",
              "Other Kharif pulses       382\n",
              "Horse-gram                371\n",
              "Peas & beans (Pulses)     369\n",
              "Tobacco                   364\n",
              "Other  Rabi pulses        355\n",
              "Soyabean                  349\n",
              "Turmeric                  337\n",
              "Masoor                    324\n",
              "Ginger                    323\n",
              "Linseed                   308\n",
              "Castor seed               300\n",
              "Barley                    297\n",
              "Sweet potato              273\n",
              "Garlic                    250\n",
              "Banana                    245\n",
              "Mesta                     210\n",
              "Tapioca                   201\n",
              "Coriander                 199\n",
              "Niger seed                192\n",
              "Jute                      181\n",
              "Coconut                   172\n",
              "Safflower                 169\n",
              "Arecanut                  162\n",
              "Sannhamp                  160\n",
              "Other Cereals             146\n",
              "Cowpea(Lobia)             134\n",
              "Cashewnut                 134\n",
              "Black pepper              126\n",
              "other oilseeds            126\n",
              "Moth                      110\n",
              "Khesari                    75\n",
              "Cardamom                   74\n",
              "Guar seed                  63\n",
              "Oilseeds total             29\n",
              "Other Summer Pulses        10\n",
              "Name: count, dtype: int64"
            ]
          },
          "metadata": {},
          "execution_count": 6
        }
      ]
    },
    {
      "cell_type": "markdown",
      "source": [
        "#State V/S Yield Comparison"
      ],
      "metadata": {
        "id": "s9kuQZ5Nw3sw"
      }
    },
    {
      "cell_type": "code",
      "source": [
        "state = (df['State'].unique())\n",
        "state"
      ],
      "metadata": {
        "colab": {
          "base_uri": "https://localhost:8080/"
        },
        "id": "pOD_BrY1sOCU",
        "outputId": "6ede6400-d6df-4d4f-919a-abf7d0778404"
      },
      "execution_count": null,
      "outputs": [
        {
          "output_type": "execute_result",
          "data": {
            "text/plain": [
              "array(['Assam', 'Karnataka', 'Kerala', 'Meghalaya', 'West Bengal',\n",
              "       'Puducherry', 'Goa', 'Andhra Pradesh', 'Tamil Nadu', 'Odisha',\n",
              "       'Bihar', 'Gujarat', 'Madhya Pradesh', 'Maharashtra', 'Mizoram',\n",
              "       'Punjab', 'Uttar Pradesh', 'Haryana', 'Himachal Pradesh',\n",
              "       'Tripura', 'Nagaland', 'Chhattisgarh', 'Uttarakhand', 'Jharkhand',\n",
              "       'Delhi', 'Manipur', 'Jammu and Kashmir', 'Telangana',\n",
              "       'Arunachal Pradesh', 'Sikkim'], dtype=object)"
            ]
          },
          "metadata": {},
          "execution_count": 7
        }
      ]
    },
    {
      "cell_type": "code",
      "source": [
        "yield_per_state = []\n",
        "for s in state :\n",
        "  yield_per_state.append(df[df['State']==s]['Yield'].sum())"
      ],
      "metadata": {
        "id": "gfJNPN6Bs0rs"
      },
      "execution_count": null,
      "outputs": []
    },
    {
      "cell_type": "code",
      "source": [
        "print(yield_per_state)\n",
        "len(yield_per_state)"
      ],
      "metadata": {
        "colab": {
          "base_uri": "https://localhost:8080/"
        },
        "id": "_PeKtns0thi9",
        "outputId": "d9df492f-2e61-49fc-ba31-5c9d260116e5"
      },
      "execution_count": null,
      "outputs": [
        {
          "output_type": "stream",
          "name": "stdout",
          "text": [
            "[160612.64836185, 151391.86780803898, 147710.353263453, 1868.333573616, 291986.752178661, 232163.600840017, 87275.95499999999, 229735.184723148, 185813.28164790702, 2387.350671884, 3114.9427709740003, 5471.634562565, 2921.854255047, 3388.7931089129993, 1068.805857151, 1926.5684359329998, 4168.818512641999, 3491.154047808, 1170.0898315489999, 1891.456559522, 2344.3458286249997, 1799.560319468, 2853.699790557, 974.625172735, 2663.09, 2316.347595246, 825.3802240790001, 39508.727732884, 1090.637611814, 278.62547619]\n"
          ]
        },
        {
          "output_type": "execute_result",
          "data": {
            "text/plain": [
              "30"
            ]
          },
          "metadata": {},
          "execution_count": 9
        }
      ]
    },
    {
      "cell_type": "code",
      "source": [
        "plt.figure(figsize = (10,20))\n",
        "sns.barplot(y=state, x=yield_per_state)"
      ],
      "metadata": {
        "colab": {
          "base_uri": "https://localhost:8080/",
          "height": 1000
        },
        "id": "pHK6xNMCtwri",
        "outputId": "64639d95-6c97-454d-ced9-2de00541c1ab"
      },
      "execution_count": null,
      "outputs": [
        {
          "output_type": "execute_result",
          "data": {
            "text/plain": [
              "<Axes: >"
            ]
          },
          "metadata": {},
          "execution_count": 10
        },
        {
          "output_type": "display_data",
          "data": {
            "text/plain": [
              "<Figure size 1000x2000 with 1 Axes>"
            ],
            "image/png": "[encoded data removed]"
          },
          "metadata": {}
        }
      ]
    },
    {
      "cell_type": "markdown",
      "source": [
        "#Crop V/S Yield Comparision"
      ],
      "metadata": {
        "id": "tPY470j4w9YL"
      }
    },
    {
      "cell_type": "code",
      "source": [
        "crops = (df['Crop'].unique())\n",
        "crops"
      ],
      "metadata": {
        "colab": {
          "base_uri": "https://localhost:8080/"
        },
        "id": "vYm0VoHouTyP",
        "outputId": "b62b39f2-4166-4ecf-9fdf-92fb4c555e51"
      },
      "execution_count": null,
      "outputs": [
        {
          "output_type": "execute_result",
          "data": {
            "text/plain": [
              "array(['Arecanut', 'Arhar/Tur', 'Castor seed', 'Coconut', 'Cotton(lint)',\n",
              "       'Dry chillies', 'Gram', 'Jute', 'Linseed', 'Maize', 'Mesta',\n",
              "       'Niger seed', 'Onion', 'Other  Rabi pulses', 'Potato',\n",
              "       'Rapeseed &Mustard', 'Rice', 'Sesamum', 'Small millets',\n",
              "       'Sugarcane', 'Sweet potato', 'Tapioca', 'Tobacco', 'Turmeric',\n",
              "       'Wheat', 'Bajra', 'Black pepper', 'Cardamom', 'Coriander',\n",
              "       'Garlic', 'Ginger', 'Groundnut', 'Horse-gram', 'Jowar', 'Ragi',\n",
              "       'Cashewnut', 'Banana', 'Soyabean', 'Barley', 'Khesari', 'Masoor',\n",
              "       'Moong(Green Gram)', 'Other Kharif pulses', 'Safflower',\n",
              "       'Sannhamp', 'Sunflower', 'Urad', 'Peas & beans (Pulses)',\n",
              "       'other oilseeds', 'Other Cereals', 'Cowpea(Lobia)',\n",
              "       'Oilseeds total', 'Guar seed', 'Other Summer Pulses', 'Moth'],\n",
              "      dtype=object)"
            ]
          },
          "metadata": {},
          "execution_count": 11
        }
      ]
    },
    {
      "cell_type": "code",
      "source": [
        "yield_per_crop = []\n",
        "for crop in crops :\n",
        "    yield_per_crop.append(df[df['Crop']==crop]['Yield'].sum())"
      ],
      "metadata": {
        "id": "OsgCTu9qubyp"
      },
      "execution_count": null,
      "outputs": []
    },
    {
      "cell_type": "code",
      "source": [
        "yield_per_crop"
      ],
      "metadata": {
        "colab": {
          "base_uri": "https://localhost:8080/"
        },
        "id": "kMePV9qWunNY",
        "outputId": "32a979b0-88ce-484a-e267-bc7bc814cafc"
      },
      "execution_count": null,
      "outputs": [
        {
          "output_type": "execute_result",
          "data": {
            "text/plain": [
              "[335.92894083199997,\n",
              " 491.412660548,\n",
              " 208.082848199,\n",
              " 1488144.0341840002,\n",
              " 855.393000647,\n",
              " 870.820145763,\n",
              " 429.46976772899995,\n",
              " 1367.5260780539998,\n",
              " 145.970591513,\n",
              " 3341.535578018,\n",
              " 1131.73274107,\n",
              " 81.316479477,\n",
              " 6014.376181259,\n",
              " 277.034839149,\n",
              " 8372.318752989999,\n",
              " 417.947828179,\n",
              " 2655.537965599,\n",
              " 419.04871510900006,\n",
              " 372.83020465199996,\n",
              " 31295.100843820997,\n",
              " 2522.735259898,\n",
              " 3350.127598106,\n",
              " 768.297863156,\n",
              " 1120.657270157,\n",
              " 1092.772110937,\n",
              " 1271.9900913830002,\n",
              " 104.530183425,\n",
              " 12.458289973000001,\n",
              " 128.99184653700001,\n",
              " 1136.2214872260001,\n",
              " 2080.831108154,\n",
              " 986.7130220659999,\n",
              " 171.70696712,\n",
              " 550.191616613,\n",
              " 605.2733272629999,\n",
              " 418.13871108699993,\n",
              " 6578.5263242400015,\n",
              " 378.03483162,\n",
              " 473.87539464500003,\n",
              " 59.170555459000006,\n",
              " 227.821574158,\n",
              " 392.89589654299994,\n",
              " 267.214149519,\n",
              " 95.566440389,\n",
              " 203.993386897,\n",
              " 411.932115733,\n",
              " 428.107016641,\n",
              " 514.347417643,\n",
              " 225.441772547,\n",
              " 124.03369622599999,\n",
              " 108.972005493,\n",
              " 57.871218762000005,\n",
              " 59.96812521100001,\n",
              " 8.599253987,\n",
              " 49.059486855]"
            ]
          },
          "metadata": {},
          "execution_count": 13
        }
      ]
    },
    {
      "cell_type": "code",
      "source": [
        "plt.figure(figsize = (10,20))\n",
        "sns.barplot(y=crops, x=yield_per_crop)"
      ],
      "metadata": {
        "colab": {
          "base_uri": "https://localhost:8080/",
          "height": 1000
        },
        "id": "8r9yeBqausvr",
        "outputId": "dc203d6c-4fc0-4a6e-a9ca-387428312df8"
      },
      "execution_count": null,
      "outputs": [
        {
          "output_type": "execute_result",
          "data": {
            "text/plain": [
              "<Axes: >"
            ]
          },
          "metadata": {},
          "execution_count": 14
        },
        {
          "output_type": "display_data",
          "data": {
            "text/plain": [
              "<Figure size 1000x2000 with 1 Axes>"
            ],
            "image/png": "[encoded data removed]"
          },
          "metadata": {}
        }
      ]
    },
    {
      "cell_type": "markdown",
      "source": [
        "#Correlation between features"
      ],
      "metadata": {
        "id": "rAitv_XyxCOc"
      }
    },
    {
      "cell_type": "code",
      "source": [
        "C_mat = df.corr()\n",
        "fig = plt.figure(figsize = (15,15))\n",
        "sns.heatmap(C_mat, vmax= .8, square = True)\n",
        "plt.show()"
      ],
      "metadata": {
        "colab": {
          "base_uri": "https://localhost:8080/",
          "height": 339
        },
        "id": "D5y9V_LvjiGL",
        "outputId": "900a8dcc-d4c2-4faf-e211-b41f97f5b818"
      },
      "execution_count": null,
      "outputs": [
        {
          "output_type": "error",
          "ename": "ValueError",
          "evalue": "could not convert string to float: 'Arecanut'",
          "traceback": [
            "\u001b[0;31m---------------------------------------------------------------------------\u001b[0m",
            "\u001b[0;31mValueError\u001b[0m                                Traceback (most recent call last)",
            "\u001b[0;32m<ipython-input-15-a23097b78500>\u001b[0m in \u001b[0;36m<cell line: 1>\u001b[0;34m()\u001b[0m\n\u001b[0;32m----> 1\u001b[0;31m \u001b[0mC_mat\u001b[0m \u001b[0;34m=\u001b[0m \u001b[0mdf\u001b[0m\u001b[0;34m.\u001b[0m\u001b[0mcorr\u001b[0m\u001b[0;34m(\u001b[0m\u001b[0;34m)\u001b[0m\u001b[0;34m\u001b[0m\u001b[0;34m\u001b[0m\u001b[0m\n\u001b[0m\u001b[1;32m      2\u001b[0m \u001b[0mfig\u001b[0m \u001b[0;34m=\u001b[0m \u001b[0mplt\u001b[0m\u001b[0;34m.\u001b[0m\u001b[0mfigure\u001b[0m\u001b[0;34m(\u001b[0m\u001b[0mfigsize\u001b[0m \u001b[0;34m=\u001b[0m \u001b[0;34m(\u001b[0m\u001b[0;36m15\u001b[0m\u001b[0;34m,\u001b[0m\u001b[0;36m15\u001b[0m\u001b[0;34m)\u001b[0m\u001b[0;34m)\u001b[0m\u001b[0;34m\u001b[0m\u001b[0;34m\u001b[0m\u001b[0m\n\u001b[1;32m      3\u001b[0m \u001b[0msns\u001b[0m\u001b[0;34m.\u001b[0m\u001b[0mheatmap\u001b[0m\u001b[0;34m(\u001b[0m\u001b[0mC_mat\u001b[0m\u001b[0;34m,\u001b[0m \u001b[0mvmax\u001b[0m\u001b[0;34m=\u001b[0m \u001b[0;36m.8\u001b[0m\u001b[0;34m,\u001b[0m \u001b[0msquare\u001b[0m \u001b[0;34m=\u001b[0m \u001b[0;32mTrue\u001b[0m\u001b[0;34m)\u001b[0m\u001b[0;34m\u001b[0m\u001b[0;34m\u001b[0m\u001b[0m\n\u001b[1;32m      4\u001b[0m \u001b[0mplt\u001b[0m\u001b[0;34m.\u001b[0m\u001b[0mshow\u001b[0m\u001b[0;34m(\u001b[0m\u001b[0;34m)\u001b[0m\u001b[0;34m\u001b[0m\u001b[0;34m\u001b[0m\u001b[0m\n",
            "\u001b[0;32m/usr/local/lib/python3.10/dist-packages/pandas/core/frame.py\u001b[0m in \u001b[0;36mcorr\u001b[0;34m(self, method, min_periods, numeric_only)\u001b[0m\n\u001b[1;32m  10052\u001b[0m         \u001b[0mcols\u001b[0m \u001b[0;34m=\u001b[0m \u001b[0mdata\u001b[0m\u001b[0;34m.\u001b[0m\u001b[0mcolumns\u001b[0m\u001b[0;34m\u001b[0m\u001b[0;34m\u001b[0m\u001b[0m\n\u001b[1;32m  10053\u001b[0m         \u001b[0midx\u001b[0m \u001b[0;34m=\u001b[0m \u001b[0mcols\u001b[0m\u001b[0;34m.\u001b[0m\u001b[0mcopy\u001b[0m\u001b[0;34m(\u001b[0m\u001b[0;34m)\u001b[0m\u001b[0;34m\u001b[0m\u001b[0;34m\u001b[0m\u001b[0m\n\u001b[0;32m> 10054\u001b[0;31m         \u001b[0mmat\u001b[0m \u001b[0;34m=\u001b[0m \u001b[0mdata\u001b[0m\u001b[0;34m.\u001b[0m\u001b[0mto_numpy\u001b[0m\u001b[0;34m(\u001b[0m\u001b[0mdtype\u001b[0m\u001b[0;34m=\u001b[0m\u001b[0mfloat\u001b[0m\u001b[0;34m,\u001b[0m \u001b[0mna_value\u001b[0m\u001b[0;34m=\u001b[0m\u001b[0mnp\u001b[0m\u001b[0;34m.\u001b[0m\u001b[0mnan\u001b[0m\u001b[0;34m,\u001b[0m \u001b[0mcopy\u001b[0m\u001b[0;34m=\u001b[0m\u001b[0;32mFalse\u001b[0m\u001b[0;34m)\u001b[0m\u001b[0;34m\u001b[0m\u001b[0;34m\u001b[0m\u001b[0m\n\u001b[0m\u001b[1;32m  10055\u001b[0m \u001b[0;34m\u001b[0m\u001b[0m\n\u001b[1;32m  10056\u001b[0m         \u001b[0;32mif\u001b[0m \u001b[0mmethod\u001b[0m \u001b[0;34m==\u001b[0m \u001b[0;34m\"pearson\"\u001b[0m\u001b[0;34m:\u001b[0m\u001b[0;34m\u001b[0m\u001b[0;34m\u001b[0m\u001b[0m\n",
            "\u001b[0;32m/usr/local/lib/python3.10/dist-packages/pandas/core/frame.py\u001b[0m in \u001b[0;36mto_numpy\u001b[0;34m(self, dtype, copy, na_value)\u001b[0m\n\u001b[1;32m   1836\u001b[0m         \u001b[0;32mif\u001b[0m \u001b[0mdtype\u001b[0m \u001b[0;32mis\u001b[0m \u001b[0;32mnot\u001b[0m \u001b[0;32mNone\u001b[0m\u001b[0;34m:\u001b[0m\u001b[0;34m\u001b[0m\u001b[0;34m\u001b[0m\u001b[0m\n\u001b[1;32m   1837\u001b[0m             \u001b[0mdtype\u001b[0m \u001b[0;34m=\u001b[0m \u001b[0mnp\u001b[0m\u001b[0;34m.\u001b[0m\u001b[0mdtype\u001b[0m\u001b[0;34m(\u001b[0m\u001b[0mdtype\u001b[0m\u001b[0;34m)\u001b[0m\u001b[0;34m\u001b[0m\u001b[0;34m\u001b[0m\u001b[0m\n\u001b[0;32m-> 1838\u001b[0;31m         \u001b[0mresult\u001b[0m \u001b[0;34m=\u001b[0m \u001b[0mself\u001b[0m\u001b[0;34m.\u001b[0m\u001b[0m_mgr\u001b[0m\u001b[0;34m.\u001b[0m\u001b[0mas_array\u001b[0m\u001b[0;34m(\u001b[0m\u001b[0mdtype\u001b[0m\u001b[0;34m=\u001b[0m\u001b[0mdtype\u001b[0m\u001b[0;34m,\u001b[0m \u001b[0mcopy\u001b[0m\u001b[0;34m=\u001b[0m\u001b[0mcopy\u001b[0m\u001b[0;34m,\u001b[0m \u001b[0mna_value\u001b[0m\u001b[0;34m=\u001b[0m\u001b[0mna_value\u001b[0m\u001b[0;34m)\u001b[0m\u001b[0;34m\u001b[0m\u001b[0;34m\u001b[0m\u001b[0m\n\u001b[0m\u001b[1;32m   1839\u001b[0m         \u001b[0;32mif\u001b[0m \u001b[0mresult\u001b[0m\u001b[0;34m.\u001b[0m\u001b[0mdtype\u001b[0m \u001b[0;32mis\u001b[0m \u001b[0;32mnot\u001b[0m \u001b[0mdtype\u001b[0m\u001b[0;34m:\u001b[0m\u001b[0;34m\u001b[0m\u001b[0;34m\u001b[0m\u001b[0m\n\u001b[1;32m   1840\u001b[0m             \u001b[0mresult\u001b[0m \u001b[0;34m=\u001b[0m \u001b[0mnp\u001b[0m\u001b[0;34m.\u001b[0m\u001b[0marray\u001b[0m\u001b[0;34m(\u001b[0m\u001b[0mresult\u001b[0m\u001b[0;34m,\u001b[0m \u001b[0mdtype\u001b[0m\u001b[0;34m=\u001b[0m\u001b[0mdtype\u001b[0m\u001b[0;34m,\u001b[0m \u001b[0mcopy\u001b[0m\u001b[0;34m=\u001b[0m\u001b[0;32mFalse\u001b[0m\u001b[0;34m)\u001b[0m\u001b[0;34m\u001b[0m\u001b[0;34m\u001b[0m\u001b[0m\n",
            "\u001b[0;32m/usr/local/lib/python3.10/dist-packages/pandas/core/internals/managers.py\u001b[0m in \u001b[0;36mas_array\u001b[0;34m(self, dtype, copy, na_value)\u001b[0m\n\u001b[1;32m   1730\u001b[0m                 \u001b[0marr\u001b[0m\u001b[0;34m.\u001b[0m\u001b[0mflags\u001b[0m\u001b[0;34m.\u001b[0m\u001b[0mwriteable\u001b[0m \u001b[0;34m=\u001b[0m \u001b[0;32mFalse\u001b[0m\u001b[0;34m\u001b[0m\u001b[0;34m\u001b[0m\u001b[0m\n\u001b[1;32m   1731\u001b[0m         \u001b[0;32melse\u001b[0m\u001b[0;34m:\u001b[0m\u001b[0;34m\u001b[0m\u001b[0;34m\u001b[0m\u001b[0m\n\u001b[0;32m-> 1732\u001b[0;31m             \u001b[0marr\u001b[0m \u001b[0;34m=\u001b[0m \u001b[0mself\u001b[0m\u001b[0;34m.\u001b[0m\u001b[0m_interleave\u001b[0m\u001b[0;34m(\u001b[0m\u001b[0mdtype\u001b[0m\u001b[0;34m=\u001b[0m\u001b[0mdtype\u001b[0m\u001b[0;34m,\u001b[0m \u001b[0mna_value\u001b[0m\u001b[0;34m=\u001b[0m\u001b[0mna_value\u001b[0m\u001b[0;34m)\u001b[0m\u001b[0;34m\u001b[0m\u001b[0;34m\u001b[0m\u001b[0m\n\u001b[0m\u001b[1;32m   1733\u001b[0m             \u001b[0;31m# The underlying data was copied within _interleave, so no need\u001b[0m\u001b[0;34m\u001b[0m\u001b[0;34m\u001b[0m\u001b[0m\n\u001b[1;32m   1734\u001b[0m             \u001b[0;31m# to further copy if copy=True or setting na_value\u001b[0m\u001b[0;34m\u001b[0m\u001b[0;34m\u001b[0m\u001b[0m\n",
            "\u001b[0;32m/usr/local/lib/python3.10/dist-packages/pandas/core/internals/managers.py\u001b[0m in \u001b[0;36m_interleave\u001b[0;34m(self, dtype, na_value)\u001b[0m\n\u001b[1;32m   1792\u001b[0m             \u001b[0;32melse\u001b[0m\u001b[0;34m:\u001b[0m\u001b[0;34m\u001b[0m\u001b[0;34m\u001b[0m\u001b[0m\n\u001b[1;32m   1793\u001b[0m                 \u001b[0marr\u001b[0m \u001b[0;34m=\u001b[0m \u001b[0mblk\u001b[0m\u001b[0;34m.\u001b[0m\u001b[0mget_values\u001b[0m\u001b[0;34m(\u001b[0m\u001b[0mdtype\u001b[0m\u001b[0;34m)\u001b[0m\u001b[0;34m\u001b[0m\u001b[0;34m\u001b[0m\u001b[0m\n\u001b[0;32m-> 1794\u001b[0;31m             \u001b[0mresult\u001b[0m\u001b[0;34m[\u001b[0m\u001b[0mrl\u001b[0m\u001b[0;34m.\u001b[0m\u001b[0mindexer\u001b[0m\u001b[0;34m]\u001b[0m \u001b[0;34m=\u001b[0m \u001b[0marr\u001b[0m\u001b[0;34m\u001b[0m\u001b[0;34m\u001b[0m\u001b[0m\n\u001b[0m\u001b[1;32m   1795\u001b[0m             \u001b[0mitemmask\u001b[0m\u001b[0;34m[\u001b[0m\u001b[0mrl\u001b[0m\u001b[0;34m.\u001b[0m\u001b[0mindexer\u001b[0m\u001b[0;34m]\u001b[0m \u001b[0;34m=\u001b[0m \u001b[0;36m1\u001b[0m\u001b[0;34m\u001b[0m\u001b[0;34m\u001b[0m\u001b[0m\n\u001b[1;32m   1796\u001b[0m \u001b[0;34m\u001b[0m\u001b[0m\n",
            "\u001b[0;31mValueError\u001b[0m: could not convert string to float: 'Arecanut'"
          ]
        }
      ]
    },
    {
      "cell_type": "markdown",
      "source": [
        "from the heatmap we can see that Area, pesticide, fertilizers are closely related features, also there is no need of Year prediction of yield and there is no need of production either"
      ],
      "metadata": {
        "id": "9Va_RZ8oxMZ_"
      }
    },
    {
      "cell_type": "code",
      "source": [
        "#dropping Crop_Year and Production\n",
        "df = df.drop('Production', axis=1)\n",
        "df = df.drop('Crop_Year', axis=1)\n",
        "df.info()"
      ],
      "metadata": {
        "id": "hsGgvgmglQGw"
      },
      "execution_count": null,
      "outputs": []
    },
    {
      "cell_type": "markdown",
      "source": [
        "#Train Test Split"
      ],
      "metadata": {
        "id": "p5E6k9UKxupJ"
      }
    },
    {
      "cell_type": "code",
      "source": [
        "#train test split\n",
        "X = df.drop('Yield', axis = 1)\n",
        "Y = df['Yield']"
      ],
      "metadata": {
        "id": "mOjY8MgimoZz"
      },
      "execution_count": null,
      "outputs": []
    },
    {
      "cell_type": "code",
      "source": [
        "X_train, X_test, Y_train, Y_test = train_test_split(X,Y,test_size = 0.3, random_state = 42)"
      ],
      "metadata": {
        "id": "mRvy50-xnt1S"
      },
      "execution_count": null,
      "outputs": []
    },
    {
      "cell_type": "code",
      "source": [
        "X_train.info()"
      ],
      "metadata": {
        "id": "qMlx5eEnx4qy"
      },
      "execution_count": null,
      "outputs": []
    },
    {
      "cell_type": "markdown",
      "source": [
        "Now we have Crop, Season and State which are objects and other values which are float. The model only understands numerical data so we need to standardize our dataset for training"
      ],
      "metadata": {
        "id": "JFhVYOz9yAAi"
      }
    },
    {
      "cell_type": "markdown",
      "source": [
        "#One Hot Encoding\n",
        "Each category will be represented by binary vectors\n",
        "For example, if you have three categories: 'red', 'blue', and 'green':\n",
        "\n",
        "'red' might be represented as [1, 0, 0]\n",
        "\n",
        "'blue' might be represented as [0, 1, 0]\n",
        "\n",
        "'green' might be represented as [0, 0, 1]\n",
        "\n",
        "\n",
        "#Standard Scaling\n",
        "This transformation ensures that the distribution of the feature values has a mean of 0 and a standard deviation of 1, which can be beneficial for algorithms that rely on input features being on similar scales, such as many machine learning algorithms, including linear regression, logistic regression, and support vector machines. It helps in speeding up convergence during optimization and prevents features with larger scales from dominating those with smaller scales."
      ],
      "metadata": {
        "id": "JCw4wGjbyUEW"
      }
    },
    {
      "cell_type": "code",
      "source": [
        "ohe = OneHotEncoder(drop='first')\n",
        "scaler = StandardScaler()\n",
        "X_train.head()"
      ],
      "metadata": {
        "id": "pu8u1WIkouAp"
      },
      "execution_count": null,
      "outputs": []
    },
    {
      "cell_type": "markdown",
      "source": [
        "Col [0,1,2] are objects so use onehotencoder on them and use standardscaler for [3,4,5,6] which are numerical values"
      ],
      "metadata": {
        "id": "qkhrAIhdy7Lj"
      }
    },
    {
      "cell_type": "code",
      "source": [
        "preprocessor = ColumnTransformer(\n",
        "    transformers = [\n",
        "        ('onehotencoder', ohe, [0,1,2]),\n",
        "        ('standardization', scaler, [3,4,5,6])\n",
        "    ],\n",
        "    remainder = 'passthrough'\n",
        ")"
      ],
      "metadata": {
        "id": "iWTVp3xWpQp_"
      },
      "execution_count": null,
      "outputs": []
    },
    {
      "cell_type": "code",
      "source": [
        "preprocessor"
      ],
      "metadata": {
        "id": "zNqlbIN1y1Df"
      },
      "execution_count": null,
      "outputs": []
    },
    {
      "cell_type": "markdown",
      "source": [
        "#Store the transformed training and testing data into separate variables"
      ],
      "metadata": {
        "id": "Bf27y2-ezQzE"
      }
    },
    {
      "cell_type": "code",
      "source": [
        "X_train_dummy = preprocessor.fit_transform(X_train)\n",
        "X_test_dummy  = preprocessor.fit_transform(X_test)"
      ],
      "metadata": {
        "id": "zA5QdQhGzrBF"
      },
      "execution_count": null,
      "outputs": []
    },
    {
      "cell_type": "code",
      "source": [
        "X_train_dummy"
      ],
      "metadata": {
        "id": "_wEW5AP40cHS"
      },
      "execution_count": null,
      "outputs": []
    },
    {
      "cell_type": "markdown",
      "source": [
        "#Train variety of models with the training data and select the one with best score and less error"
      ],
      "metadata": {
        "id": "TV6P0-l1zbrP"
      }
    },
    {
      "cell_type": "code",
      "source": [
        "models = {\n",
        "    'lr'  : LinearRegression(),\n",
        "    'lss' : Lasso(),\n",
        "    'rg'  : Ridge(),\n",
        "    'Knr' : KNeighborsRegressor(n_neighbors=5),\n",
        "    'dtr' : DecisionTreeRegressor(),\n",
        "    'rfr' : RandomForestRegressor(max_depth = 10, random_state = 0, n_estimators = 100),\n",
        "}\n",
        "\n",
        "\n",
        "for name, mod in models.items():\n",
        "  mod.fit(X_train_dummy, Y_train)\n",
        "  Y_pred = mod.predict(X_test_dummy)\n",
        "  print(f\"{name} MSE : {mean_squared_error(Y_test, Y_pred)} Score : {r2_score(Y_test,Y_pred)}\")"
      ],
      "metadata": {
        "id": "_GUPJiBP0eNF"
      },
      "execution_count": null,
      "outputs": []
    },
    {
      "cell_type": "markdown",
      "source": [
        "#KNR performs best with R2 = 0.9261144868566538 and MSE = 57412.88732806002"
      ],
      "metadata": {
        "id": "XloCsq5wzlPX"
      }
    },
    {
      "cell_type": "code",
      "source": [
        "#Creating an instance of KNeigborsRegressor\n",
        "Knr = KNeighborsRegressor(n_neighbors = 5)\n",
        "Knr.fit(X_train_dummy, Y_train)"
      ],
      "metadata": {
        "id": "yK2VtnhTt-VP"
      },
      "execution_count": null,
      "outputs": []
    },
    {
      "cell_type": "markdown",
      "source": [
        "Create a function which returns prediction by the model"
      ],
      "metadata": {
        "id": "QldDESVzz4c3"
      }
    },
    {
      "cell_type": "code",
      "source": [
        "def prediction(Crop, Season, State, Area, Annual_Rainfall, Fertilizer, Pesticide):\n",
        "  features = np.array([[Crop, Season, State, Area, Annual_Rainfall, Fertilizer, Pesticide]])\n",
        "  transformed_features = preprocessor.transform(features)\n",
        "  predicted_Value = Knr.predict(transformed_features).reshape(1,-1)\n",
        "  return predicted_Value[0]"
      ],
      "metadata": {
        "id": "JVsuo_864KGV"
      },
      "execution_count": null,
      "outputs": []
    },
    {
      "cell_type": "code",
      "source": [
        "X_train.head(1)"
      ],
      "metadata": {
        "id": "T6IdvbUN47ku"
      },
      "execution_count": null,
      "outputs": []
    },
    {
      "cell_type": "markdown",
      "source": [
        "#Testing prediction against a known dataset"
      ],
      "metadata": {
        "id": "WSIXbQ_M0E0g"
      }
    },
    {
      "cell_type": "code",
      "source": [
        "Crop = 'Onion'\n",
        "Season = 'Rabi'\n",
        "State = 'Chhattisgarh'\n",
        "Area = 87.0\n",
        "Annual_Rainfall = 1418.3\n",
        "Fertilizer = 12570.63\n",
        "Pesticide = 23.49\n",
        "\n",
        "result = prediction(Crop, Season, State, Area, Annual_Rainfall, Fertilizer, Pesticide)"
      ],
      "metadata": {
        "id": "G_mjsuspv1ef"
      },
      "execution_count": null,
      "outputs": []
    },
    {
      "cell_type": "code",
      "source": [
        "result\n",
        "#  actual yield = 20.33\n",
        "#  predicted yield = 19.33"
      ],
      "metadata": {
        "id": "bYpF5yWNv7-v"
      },
      "execution_count": null,
      "outputs": []
    },
    {
      "cell_type": "code",
      "source": [
        "#prediction for a random mix of data\n",
        "\n",
        "Crop = 'Coconut'\n",
        "Season = 'Rabi'\n",
        "State = 'Assam'\n",
        "Area = 75259\n",
        "Annual_Rainfall = 1418.3\n",
        "Fertilizer = 75755.32\n",
        "Pesticide = 23.49\n",
        "\n",
        "result = prediction(Crop, Season, State, Area, Annual_Rainfall, Fertilizer, Pesticide)"
      ],
      "metadata": {
        "id": "6Ef98rHymrgl"
      },
      "execution_count": null,
      "outputs": []
    },
    {
      "cell_type": "code",
      "source": [
        "result"
      ],
      "metadata": {
        "id": "cBEHub0lotFk"
      },
      "execution_count": null,
      "outputs": []
    },
    {
      "cell_type": "code",
      "source": [
        "import pickle"
      ],
      "metadata": {
        "id": "SJ-X3bKx4gWh"
      },
      "execution_count": null,
      "outputs": []
    },
    {
      "cell_type": "code",
      "source": [
        "filename = 'yield_prediction_trained.sav'\n",
        "pickle.dump(Knr, open(filename, 'wb'))"
      ],
      "metadata": {
        "id": "tN9xQ4wkfGi1"
      },
      "execution_count": null,
      "outputs": []
    },
    {
      "cell_type": "code",
      "source": [
        "loaded_model = pickle.load(open('/content/yield_prediction_trained.sav', 'rb'))"
      ],
      "metadata": {
        "id": "c_fU0CAEfkUe"
      },
      "execution_count": null,
      "outputs": []
    },
    {
      "cell_type": "code",
      "source": [
        "filename = 'processor.sav'\n",
        "pickle.dump(preprocessor, open(filename, 'wb'))"
      ],
      "metadata": {
        "id": "-ElzVp8EgcmS"
      },
      "execution_count": null,
      "outputs": []
    },
    {
      "cell_type": "code",
      "source": [
        "processor = pickle.load(open('/content/processor.sav', 'rb'))"
      ],
      "metadata": {
        "id": "NCXB-4eqgdbu"
      },
      "execution_count": null,
      "outputs": []
    },
    {
      "cell_type": "code",
      "source": [
        "def prediction(Crop, Season, State, Area, Annual_Rainfall, Fertilizer, Pesticide):\n",
        "  features = np.array([[Crop, Season, State, Area, Annual_Rainfall, Fertilizer, Pesticide]])\n",
        "  transformed_features = processor.transform(features)\n",
        "  predicted_Value = loaded_model.predict(transformed_features).reshape(1,-1)\n",
        "  return predicted_Value[0]"
      ],
      "metadata": {
        "id": "y86nyMYEf4Nc"
      },
      "execution_count": null,
      "outputs": []
    },
    {
      "cell_type": "code",
      "source": [
        "#prediction for a random mix of data\n",
        "\n",
        "Crop = 'Coconut'\n",
        "Season = 'Rabi'\n",
        "State = 'Assam'\n",
        "Area = 75259\n",
        "Annual_Rainfall = 1418.3\n",
        "Fertilizer = 75755.32\n",
        "Pesticide = 23.49\n",
        "\n",
        "result = prediction(Crop, Season, State, Area, Annual_Rainfall, Fertilizer, Pesticide)"
      ],
      "metadata": {
        "id": "nhA1YdmlgxGh"
      },
      "execution_count": null,
      "outputs": []
    },
    {
      "cell_type": "code",
      "source": [
        "result"
      ],
      "metadata": {
        "id": "2U-jfStvgzsE"
      },
      "execution_count": null,
      "outputs": []
    },
    {
      "cell_type": "code",
      "source": [],
      "metadata": {
        "id": "V0_LvKXGg0Ua"
      },
      "execution_count": null,
      "outputs": []
    }
  ]
}